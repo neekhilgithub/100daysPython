{
 "cells": [
  {
   "cell_type": "code",
   "execution_count": 2,
   "id": "dd96c75d",
   "metadata": {},
   "outputs": [
    {
     "name": "stdout",
     "output_type": "stream",
     "text": [
      "Welcome to the tip calculator!\n",
      "What was the total bill? $1500\n",
      "How much tip would you like to give? 10, 12, or 15? 12\n",
      "How many people to split the bill?5\n",
      "Each person should pay: $336.0\n"
     ]
    }
   ],
   "source": [
    "#If the bill was $150.00, split between 5 people, with 12% tip. \n",
    "#Each person should pay (150.00 / 5) * 1.12 = 33.6\n",
    "#Round the result to 2 decimal places.\n",
    "print(\"Welcome to the tip calculator!\")\n",
    "bill = float(input(\"What was the total bill? $\"))\n",
    "tip = int(input(\"How much tip would you like to give? 10, 12, or 15? \"))\n",
    "people = int(input(\"How many people to split the bill?\"))\n",
    "\n",
    "tip_as_percent = tip / 100\n",
    "total_tip_amount = bill * tip_as_percent\n",
    "total_bill = bill + total_tip_amount\n",
    "bill_per_person = total_bill / people\n",
    "final_amount = round(bill_per_person, 2)\n",
    "print(f\"Each person should pay: ${final_amount}\")"
   ]
  },
  {
   "cell_type": "code",
   "execution_count": null,
   "id": "03e2e63b",
   "metadata": {},
   "outputs": [],
   "source": []
  }
 ],
 "metadata": {
  "kernelspec": {
   "display_name": "Python 3 (ipykernel)",
   "language": "python",
   "name": "python3"
  },
  "language_info": {
   "codemirror_mode": {
    "name": "ipython",
    "version": 3
   },
   "file_extension": ".py",
   "mimetype": "text/x-python",
   "name": "python",
   "nbconvert_exporter": "python",
   "pygments_lexer": "ipython3",
   "version": "3.9.13"
  }
 },
 "nbformat": 4,
 "nbformat_minor": 5
}
